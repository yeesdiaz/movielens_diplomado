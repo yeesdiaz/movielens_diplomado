{
 "cells": [
  {
   "cell_type": "code",
   "execution_count": null,
   "id": "ca398a06",
   "metadata": {},
   "outputs": [],
   "source": [
    "import Pkg\n",
    "Pkg.add(\"CSV\")\n",
    "Pkg.add(\"DataFrames\")\n",
    "Pkg.add(\"BenchmarkTools\")\n",
    "Pkg.add(\"Tables\")\n",
    "Pkg.add(\"Statistics\")\n",
    "Pkg.add(\"Query\")\n",
    "Pkg.add(\"CUDA\")\n",
    "Pkg.add(\"Dates\")\n",
    "Pkg.add(\"Printf\")"
   ]
  },
  {
   "cell_type": "code",
   "execution_count": null,
   "id": "105d7020",
   "metadata": {},
   "outputs": [],
   "source": [
    "Pkg.add(\"Parquet\")"
   ]
  },
  {
   "cell_type": "code",
   "execution_count": 1,
   "id": "a97c9f15",
   "metadata": {},
   "outputs": [],
   "source": [
    "using CSV\n",
    "using DataFrames\n",
    "using BenchmarkTools\n",
    "using Tables\n",
    "using Statistics\n",
    "using Query\n",
    "using CUDA\n",
    "using Dates\n",
    "using Printf\n",
    "using Parquet"
   ]
  },
  {
   "cell_type": "code",
   "execution_count": null,
   "id": "e0ddb081",
   "metadata": {},
   "outputs": [],
   "source": [
    "dfr = CSV.read(\"ratings.csv\", DataFrame)"
   ]
  },
  {
   "cell_type": "code",
   "execution_count": 3,
   "id": "099b24c8",
   "metadata": {},
   "outputs": [
    {
     "data": {
      "text/html": [
       "<div><div style = \"float: left;\"><span>62423×3 DataFrame</span></div><div style = \"float: right;\"><span style = \"font-style: italic;\">62398 rows omitted</span></div><div style = \"clear: both;\"></div></div><div class = \"data-frame\" style = \"overflow-x: scroll;\"><table class = \"data-frame\" style = \"margin-bottom: 6px;\"><thead><tr class = \"header\"><th class = \"rowNumber\" style = \"font-weight: bold; text-align: right;\">Row</th><th style = \"text-align: left;\">movieId</th><th style = \"text-align: left;\">title</th><th style = \"text-align: left;\">genres</th></tr><tr class = \"subheader headerLastRow\"><th class = \"rowNumber\" style = \"font-weight: bold; text-align: right;\"></th><th title = \"Int64\" style = \"text-align: left;\">Int64</th><th title = \"String\" style = \"text-align: left;\">String</th><th title = \"String\" style = \"text-align: left;\">String</th></tr></thead><tbody><tr><td class = \"rowNumber\" style = \"font-weight: bold; text-align: right;\">1</td><td style = \"text-align: right;\">1</td><td style = \"text-align: left;\">Toy Story (1995)</td><td style = \"text-align: left;\">Adventure|Animation|Children|Comedy|Fantasy</td></tr><tr><td class = \"rowNumber\" style = \"font-weight: bold; text-align: right;\">2</td><td style = \"text-align: right;\">2</td><td style = \"text-align: left;\">Jumanji (1995)</td><td style = \"text-align: left;\">Adventure|Children|Fantasy</td></tr><tr><td class = \"rowNumber\" style = \"font-weight: bold; text-align: right;\">3</td><td style = \"text-align: right;\">3</td><td style = \"text-align: left;\">Grumpier Old Men (1995)</td><td style = \"text-align: left;\">Comedy|Romance</td></tr><tr><td class = \"rowNumber\" style = \"font-weight: bold; text-align: right;\">4</td><td style = \"text-align: right;\">4</td><td style = \"text-align: left;\">Waiting to Exhale (1995)</td><td style = \"text-align: left;\">Comedy|Drama|Romance</td></tr><tr><td class = \"rowNumber\" style = \"font-weight: bold; text-align: right;\">5</td><td style = \"text-align: right;\">5</td><td style = \"text-align: left;\">Father of the Bride Part II (1995)</td><td style = \"text-align: left;\">Comedy</td></tr><tr><td class = \"rowNumber\" style = \"font-weight: bold; text-align: right;\">6</td><td style = \"text-align: right;\">6</td><td style = \"text-align: left;\">Heat (1995)</td><td style = \"text-align: left;\">Action|Crime|Thriller</td></tr><tr><td class = \"rowNumber\" style = \"font-weight: bold; text-align: right;\">7</td><td style = \"text-align: right;\">7</td><td style = \"text-align: left;\">Sabrina (1995)</td><td style = \"text-align: left;\">Comedy|Romance</td></tr><tr><td class = \"rowNumber\" style = \"font-weight: bold; text-align: right;\">8</td><td style = \"text-align: right;\">8</td><td style = \"text-align: left;\">Tom and Huck (1995)</td><td style = \"text-align: left;\">Adventure|Children</td></tr><tr><td class = \"rowNumber\" style = \"font-weight: bold; text-align: right;\">9</td><td style = \"text-align: right;\">9</td><td style = \"text-align: left;\">Sudden Death (1995)</td><td style = \"text-align: left;\">Action</td></tr><tr><td class = \"rowNumber\" style = \"font-weight: bold; text-align: right;\">10</td><td style = \"text-align: right;\">10</td><td style = \"text-align: left;\">GoldenEye (1995)</td><td style = \"text-align: left;\">Action|Adventure|Thriller</td></tr><tr><td class = \"rowNumber\" style = \"font-weight: bold; text-align: right;\">11</td><td style = \"text-align: right;\">11</td><td style = \"text-align: left;\">American President, The (1995)</td><td style = \"text-align: left;\">Comedy|Drama|Romance</td></tr><tr><td class = \"rowNumber\" style = \"font-weight: bold; text-align: right;\">12</td><td style = \"text-align: right;\">12</td><td style = \"text-align: left;\">Dracula: Dead and Loving It (1995)</td><td style = \"text-align: left;\">Comedy|Horror</td></tr><tr><td class = \"rowNumber\" style = \"font-weight: bold; text-align: right;\">13</td><td style = \"text-align: right;\">13</td><td style = \"text-align: left;\">Balto (1995)</td><td style = \"text-align: left;\">Adventure|Animation|Children</td></tr><tr><td style = \"text-align: right;\">&vellip;</td><td style = \"text-align: right;\">&vellip;</td><td style = \"text-align: right;\">&vellip;</td><td style = \"text-align: right;\">&vellip;</td></tr><tr><td class = \"rowNumber\" style = \"font-weight: bold; text-align: right;\">62412</td><td style = \"text-align: right;\">209141</td><td style = \"text-align: left;\">And They Lived Happily Ever After (1976)</td><td style = \"text-align: left;\">Comedy</td></tr><tr><td class = \"rowNumber\" style = \"font-weight: bold; text-align: right;\">62413</td><td style = \"text-align: right;\">209143</td><td style = \"text-align: left;\">The Painting (2019)</td><td style = \"text-align: left;\">Animation|Documentary</td></tr><tr><td class = \"rowNumber\" style = \"font-weight: bold; text-align: right;\">62414</td><td style = \"text-align: right;\">209145</td><td style = \"text-align: left;\">Liberté (2019)</td><td style = \"text-align: left;\">Drama</td></tr><tr><td class = \"rowNumber\" style = \"font-weight: bold; text-align: right;\">62415</td><td style = \"text-align: right;\">209147</td><td style = \"text-align: left;\">The Carpet of Horror (1962)</td><td style = \"text-align: left;\">Crime|Horror</td></tr><tr><td class = \"rowNumber\" style = \"font-weight: bold; text-align: right;\">62416</td><td style = \"text-align: right;\">209151</td><td style = \"text-align: left;\">Mao Zedong 1949 (2019)</td><td style = \"text-align: left;\">(no genres listed)</td></tr><tr><td class = \"rowNumber\" style = \"font-weight: bold; text-align: right;\">62417</td><td style = \"text-align: right;\">209153</td><td style = \"text-align: left;\">Happy Flight (2008)</td><td style = \"text-align: left;\">Comedy|Drama</td></tr><tr><td class = \"rowNumber\" style = \"font-weight: bold; text-align: right;\">62418</td><td style = \"text-align: right;\">209155</td><td style = \"text-align: left;\">Santosh Subramaniam (2008)</td><td style = \"text-align: left;\">Action|Comedy|Romance</td></tr><tr><td class = \"rowNumber\" style = \"font-weight: bold; text-align: right;\">62419</td><td style = \"text-align: right;\">209157</td><td style = \"text-align: left;\">We (2018)</td><td style = \"text-align: left;\">Drama</td></tr><tr><td class = \"rowNumber\" style = \"font-weight: bold; text-align: right;\">62420</td><td style = \"text-align: right;\">209159</td><td style = \"text-align: left;\">Window of the Soul (2001)</td><td style = \"text-align: left;\">Documentary</td></tr><tr><td class = \"rowNumber\" style = \"font-weight: bold; text-align: right;\">62421</td><td style = \"text-align: right;\">209163</td><td style = \"text-align: left;\">Bad Poems (2018)</td><td style = \"text-align: left;\">Comedy|Drama</td></tr><tr><td class = \"rowNumber\" style = \"font-weight: bold; text-align: right;\">62422</td><td style = \"text-align: right;\">209169</td><td style = \"text-align: left;\">A Girl Thing (2001)</td><td style = \"text-align: left;\">(no genres listed)</td></tr><tr><td class = \"rowNumber\" style = \"font-weight: bold; text-align: right;\">62423</td><td style = \"text-align: right;\">209171</td><td style = \"text-align: left;\">Women of Devil&apos;s Island (1962)</td><td style = \"text-align: left;\">Action|Adventure|Drama</td></tr></tbody></table></div>"
      ],
      "text/latex": [
       "\\begin{tabular}{r|ccc}\n",
       "\t& movieId & title & genres\\\\\n",
       "\t\\hline\n",
       "\t& Int64 & String & String\\\\\n",
       "\t\\hline\n",
       "\t1 & 1 & Toy Story (1995) & Adventure|Animation|Children|Comedy|Fantasy \\\\\n",
       "\t2 & 2 & Jumanji (1995) & Adventure|Children|Fantasy \\\\\n",
       "\t3 & 3 & Grumpier Old Men (1995) & Comedy|Romance \\\\\n",
       "\t4 & 4 & Waiting to Exhale (1995) & Comedy|Drama|Romance \\\\\n",
       "\t5 & 5 & Father of the Bride Part II (1995) & Comedy \\\\\n",
       "\t6 & 6 & Heat (1995) & Action|Crime|Thriller \\\\\n",
       "\t7 & 7 & Sabrina (1995) & Comedy|Romance \\\\\n",
       "\t8 & 8 & Tom and Huck (1995) & Adventure|Children \\\\\n",
       "\t9 & 9 & Sudden Death (1995) & Action \\\\\n",
       "\t10 & 10 & GoldenEye (1995) & Action|Adventure|Thriller \\\\\n",
       "\t11 & 11 & American President, The (1995) & Comedy|Drama|Romance \\\\\n",
       "\t12 & 12 & Dracula: Dead and Loving It (1995) & Comedy|Horror \\\\\n",
       "\t13 & 13 & Balto (1995) & Adventure|Animation|Children \\\\\n",
       "\t14 & 14 & Nixon (1995) & Drama \\\\\n",
       "\t15 & 15 & Cutthroat Island (1995) & Action|Adventure|Romance \\\\\n",
       "\t16 & 16 & Casino (1995) & Crime|Drama \\\\\n",
       "\t17 & 17 & Sense and Sensibility (1995) & Drama|Romance \\\\\n",
       "\t18 & 18 & Four Rooms (1995) & Comedy \\\\\n",
       "\t19 & 19 & Ace Ventura: When Nature Calls (1995) & Comedy \\\\\n",
       "\t20 & 20 & Money Train (1995) & Action|Comedy|Crime|Drama|Thriller \\\\\n",
       "\t21 & 21 & Get Shorty (1995) & Comedy|Crime|Thriller \\\\\n",
       "\t22 & 22 & Copycat (1995) & Crime|Drama|Horror|Mystery|Thriller \\\\\n",
       "\t23 & 23 & Assassins (1995) & Action|Crime|Thriller \\\\\n",
       "\t24 & 24 & Powder (1995) & Drama|Sci-Fi \\\\\n",
       "\t25 & 25 & Leaving Las Vegas (1995) & Drama|Romance \\\\\n",
       "\t26 & 26 & Othello (1995) & Drama \\\\\n",
       "\t27 & 27 & Now and Then (1995) & Children|Drama \\\\\n",
       "\t28 & 28 & Persuasion (1995) & Drama|Romance \\\\\n",
       "\t29 & 29 & City of Lost Children, The (Cité des enfants perdus, La) (1995) & Adventure|Drama|Fantasy|Mystery|Sci-Fi \\\\\n",
       "\t30 & 30 & Shanghai Triad (Yao a yao yao dao waipo qiao) (1995) & Crime|Drama \\\\\n",
       "\t$\\dots$ & $\\dots$ & $\\dots$ & $\\dots$ \\\\\n",
       "\\end{tabular}\n"
      ],
      "text/plain": [
       "\u001b[1m62423×3 DataFrame\u001b[0m\n",
       "\u001b[1m   Row \u001b[0m│\u001b[1m movieId \u001b[0m\u001b[1m title                             \u001b[0m\u001b[1m genres                   \u001b[0m ⋯\n",
       "       │\u001b[90m Int64   \u001b[0m\u001b[90m String                            \u001b[0m\u001b[90m String                   \u001b[0m ⋯\n",
       "───────┼────────────────────────────────────────────────────────────────────────\n",
       "     1 │       1  Toy Story (1995)                   Adventure|Animation|Child ⋯\n",
       "     2 │       2  Jumanji (1995)                     Adventure|Children|Fantas\n",
       "     3 │       3  Grumpier Old Men (1995)            Comedy|Romance\n",
       "     4 │       4  Waiting to Exhale (1995)           Comedy|Drama|Romance\n",
       "     5 │       5  Father of the Bride Part II (199…  Comedy                    ⋯\n",
       "     6 │       6  Heat (1995)                        Action|Crime|Thriller\n",
       "     7 │       7  Sabrina (1995)                     Comedy|Romance\n",
       "     8 │       8  Tom and Huck (1995)                Adventure|Children\n",
       "     9 │       9  Sudden Death (1995)                Action                    ⋯\n",
       "    10 │      10  GoldenEye (1995)                   Action|Adventure|Thriller\n",
       "    11 │      11  American President, The (1995)     Comedy|Drama|Romance\n",
       "   ⋮   │    ⋮                     ⋮                                  ⋮         ⋱\n",
       " 62414 │  209145  Liberté (2019)                     Drama\n",
       " 62415 │  209147  The Carpet of Horror (1962)        Crime|Horror              ⋯\n",
       " 62416 │  209151  Mao Zedong 1949 (2019)             (no genres listed)\n",
       " 62417 │  209153  Happy Flight (2008)                Comedy|Drama\n",
       " 62418 │  209155  Santosh Subramaniam (2008)         Action|Comedy|Romance\n",
       " 62419 │  209157  We (2018)                          Drama                     ⋯\n",
       " 62420 │  209159  Window of the Soul (2001)          Documentary\n",
       " 62421 │  209163  Bad Poems (2018)                   Comedy|Drama\n",
       " 62422 │  209169  A Girl Thing (2001)                (no genres listed)\n",
       " 62423 │  209171  Women of Devil's Island (1962)     Action|Adventure|Drama    ⋯\n",
       "\u001b[36m                                                 1 column and 62402 rows omitted\u001b[0m"
      ]
     },
     "execution_count": 3,
     "metadata": {},
     "output_type": "execute_result"
    }
   ],
   "source": [
    "dfm = CSV.read(\"movies.csv\", DataFrame)"
   ]
  },
  {
   "cell_type": "code",
   "execution_count": 2,
   "id": "fb7f6ac7",
   "metadata": {},
   "outputs": [
    {
     "data": {
      "text/plain": [
       "10"
      ]
     },
     "execution_count": 2,
     "metadata": {},
     "output_type": "execute_result"
    }
   ],
   "source": [
    "nF = 10"
   ]
  },
  {
   "cell_type": "code",
   "execution_count": 3,
   "id": "b1b86580",
   "metadata": {},
   "outputs": [
    {
     "data": {
      "text/plain": [
       "19-element Vector{String}:\n",
       " \"Action\"\n",
       " \"Adventure\"\n",
       " \"Animation\"\n",
       " \"Children’s\"\n",
       " \"Comedy\"\n",
       " \"Crime\"\n",
       " \"Documentary\"\n",
       " \"Drama\"\n",
       " \"Fantasy\"\n",
       " \"Film-Noir\"\n",
       " \"Horror\"\n",
       " \"Musical\"\n",
       " \"Mystery\"\n",
       " \"Romance\"\n",
       " \"Sci-Fi\"\n",
       " \"Thriller\"\n",
       " \"War\"\n",
       " \"Western\"\n",
       " \"(no genres listed)\""
      ]
     },
     "execution_count": 3,
     "metadata": {},
     "output_type": "execute_result"
    }
   ],
   "source": [
    "kg = [ \"Action\",\"Adventure\",\"Animation\",\"Children’s\",\"Comedy\",\"Crime\",\"Documentary\",\n",
    "\"Drama\",\"Fantasy\",\"Film-Noir\",\"Horror\",\"Musical\",\"Mystery\",\"Romance\",\"Sci-Fi\",\"Thriller\",\n",
    "\"War\",\"Western\",\"(no genres listed)\"]"
   ]
  },
  {
   "cell_type": "code",
   "execution_count": 4,
   "id": "14d0819b",
   "metadata": {},
   "outputs": [
    {
     "data": {
      "text/plain": [
       "19"
      ]
     },
     "execution_count": 4,
     "metadata": {},
     "output_type": "execute_result"
    }
   ],
   "source": [
    "ng = length(kg)"
   ]
  },
  {
   "cell_type": "code",
   "execution_count": 5,
   "id": "fbaeae01",
   "metadata": {},
   "outputs": [
    {
     "data": {
      "text/plain": [
       "19×10 Matrix{Int64}:\n",
       " 0  0  0  0  0  0  0  0  0  0\n",
       " 0  0  0  0  0  0  0  0  0  0\n",
       " 0  0  0  0  0  0  0  0  0  0\n",
       " 0  0  0  0  0  0  0  0  0  0\n",
       " 0  0  0  0  0  0  0  0  0  0\n",
       " 0  0  0  0  0  0  0  0  0  0\n",
       " 0  0  0  0  0  0  0  0  0  0\n",
       " 0  0  0  0  0  0  0  0  0  0\n",
       " 0  0  0  0  0  0  0  0  0  0\n",
       " 0  0  0  0  0  0  0  0  0  0\n",
       " 0  0  0  0  0  0  0  0  0  0\n",
       " 0  0  0  0  0  0  0  0  0  0\n",
       " 0  0  0  0  0  0  0  0  0  0\n",
       " 0  0  0  0  0  0  0  0  0  0\n",
       " 0  0  0  0  0  0  0  0  0  0\n",
       " 0  0  0  0  0  0  0  0  0  0\n",
       " 0  0  0  0  0  0  0  0  0  0\n",
       " 0  0  0  0  0  0  0  0  0  0\n",
       " 0  0  0  0  0  0  0  0  0  0"
      ]
     },
     "execution_count": 5,
     "metadata": {},
     "output_type": "execute_result"
    }
   ],
   "source": [
    "ra = zeros(Int, ng, nF)"
   ]
  },
  {
   "cell_type": "code",
   "execution_count": 6,
   "id": "4a209c5d",
   "metadata": {
    "scrolled": true
   },
   "outputs": [
    {
     "ename": "LoadError",
     "evalue": "UndefVarError: `dfm` not defined in `Main`\nSuggestion: check for spelling errors or missing imports.",
     "output_type": "error",
     "traceback": [
      "UndefVarError: `dfm` not defined in `Main`\nSuggestion: check for spelling errors or missing imports.",
      "",
      "Stacktrace:",
      " [1] top-level scope",
      "   @ In[6]:2"
     ]
    }
   ],
   "source": [
    "# CSV a Parquet\n",
    "Parquet.write_parquet(\"movies.parquet\",dfm)"
   ]
  },
  {
   "cell_type": "code",
   "execution_count": 7,
   "id": "715858cf",
   "metadata": {},
   "outputs": [
    {
     "data": {
      "text/html": [
       "<div><div style = \"float: left;\"><span>62423×2 DataFrame</span></div><div style = \"float: right;\"><span style = \"font-style: italic;\">62398 rows omitted</span></div><div style = \"clear: both;\"></div></div><div class = \"data-frame\" style = \"overflow-x: scroll;\"><table class = \"data-frame\" style = \"margin-bottom: 6px;\"><thead><tr class = \"header\"><th class = \"rowNumber\" style = \"font-weight: bold; text-align: right;\">Row</th><th style = \"text-align: left;\">movieId</th><th style = \"text-align: left;\">genres</th></tr><tr class = \"subheader headerLastRow\"><th class = \"rowNumber\" style = \"font-weight: bold; text-align: right;\"></th><th title = \"Union{Missing, Int64}\" style = \"text-align: left;\">Int64?</th><th title = \"Union{Missing, String}\" style = \"text-align: left;\">String?</th></tr></thead><tbody><tr><td class = \"rowNumber\" style = \"font-weight: bold; text-align: right;\">1</td><td style = \"text-align: right;\">1</td><td style = \"text-align: left;\">Adventure|Animation|Children|Comedy|Fantasy</td></tr><tr><td class = \"rowNumber\" style = \"font-weight: bold; text-align: right;\">2</td><td style = \"text-align: right;\">2</td><td style = \"text-align: left;\">Adventure|Children|Fantasy</td></tr><tr><td class = \"rowNumber\" style = \"font-weight: bold; text-align: right;\">3</td><td style = \"text-align: right;\">3</td><td style = \"text-align: left;\">Comedy|Romance</td></tr><tr><td class = \"rowNumber\" style = \"font-weight: bold; text-align: right;\">4</td><td style = \"text-align: right;\">4</td><td style = \"text-align: left;\">Comedy|Drama|Romance</td></tr><tr><td class = \"rowNumber\" style = \"font-weight: bold; text-align: right;\">5</td><td style = \"text-align: right;\">5</td><td style = \"text-align: left;\">Comedy</td></tr><tr><td class = \"rowNumber\" style = \"font-weight: bold; text-align: right;\">6</td><td style = \"text-align: right;\">6</td><td style = \"text-align: left;\">Action|Crime|Thriller</td></tr><tr><td class = \"rowNumber\" style = \"font-weight: bold; text-align: right;\">7</td><td style = \"text-align: right;\">7</td><td style = \"text-align: left;\">Comedy|Romance</td></tr><tr><td class = \"rowNumber\" style = \"font-weight: bold; text-align: right;\">8</td><td style = \"text-align: right;\">8</td><td style = \"text-align: left;\">Adventure|Children</td></tr><tr><td class = \"rowNumber\" style = \"font-weight: bold; text-align: right;\">9</td><td style = \"text-align: right;\">9</td><td style = \"text-align: left;\">Action</td></tr><tr><td class = \"rowNumber\" style = \"font-weight: bold; text-align: right;\">10</td><td style = \"text-align: right;\">10</td><td style = \"text-align: left;\">Action|Adventure|Thriller</td></tr><tr><td class = \"rowNumber\" style = \"font-weight: bold; text-align: right;\">11</td><td style = \"text-align: right;\">11</td><td style = \"text-align: left;\">Comedy|Drama|Romance</td></tr><tr><td class = \"rowNumber\" style = \"font-weight: bold; text-align: right;\">12</td><td style = \"text-align: right;\">12</td><td style = \"text-align: left;\">Comedy|Horror</td></tr><tr><td class = \"rowNumber\" style = \"font-weight: bold; text-align: right;\">13</td><td style = \"text-align: right;\">13</td><td style = \"text-align: left;\">Adventure|Animation|Children</td></tr><tr><td style = \"text-align: right;\">&vellip;</td><td style = \"text-align: right;\">&vellip;</td><td style = \"text-align: right;\">&vellip;</td></tr><tr><td class = \"rowNumber\" style = \"font-weight: bold; text-align: right;\">62412</td><td style = \"text-align: right;\">209141</td><td style = \"text-align: left;\">Comedy</td></tr><tr><td class = \"rowNumber\" style = \"font-weight: bold; text-align: right;\">62413</td><td style = \"text-align: right;\">209143</td><td style = \"text-align: left;\">Animation|Documentary</td></tr><tr><td class = \"rowNumber\" style = \"font-weight: bold; text-align: right;\">62414</td><td style = \"text-align: right;\">209145</td><td style = \"text-align: left;\">Drama</td></tr><tr><td class = \"rowNumber\" style = \"font-weight: bold; text-align: right;\">62415</td><td style = \"text-align: right;\">209147</td><td style = \"text-align: left;\">Crime|Horror</td></tr><tr><td class = \"rowNumber\" style = \"font-weight: bold; text-align: right;\">62416</td><td style = \"text-align: right;\">209151</td><td style = \"text-align: left;\">(no genres listed)</td></tr><tr><td class = \"rowNumber\" style = \"font-weight: bold; text-align: right;\">62417</td><td style = \"text-align: right;\">209153</td><td style = \"text-align: left;\">Comedy|Drama</td></tr><tr><td class = \"rowNumber\" style = \"font-weight: bold; text-align: right;\">62418</td><td style = \"text-align: right;\">209155</td><td style = \"text-align: left;\">Action|Comedy|Romance</td></tr><tr><td class = \"rowNumber\" style = \"font-weight: bold; text-align: right;\">62419</td><td style = \"text-align: right;\">209157</td><td style = \"text-align: left;\">Drama</td></tr><tr><td class = \"rowNumber\" style = \"font-weight: bold; text-align: right;\">62420</td><td style = \"text-align: right;\">209159</td><td style = \"text-align: left;\">Documentary</td></tr><tr><td class = \"rowNumber\" style = \"font-weight: bold; text-align: right;\">62421</td><td style = \"text-align: right;\">209163</td><td style = \"text-align: left;\">Comedy|Drama</td></tr><tr><td class = \"rowNumber\" style = \"font-weight: bold; text-align: right;\">62422</td><td style = \"text-align: right;\">209169</td><td style = \"text-align: left;\">(no genres listed)</td></tr><tr><td class = \"rowNumber\" style = \"font-weight: bold; text-align: right;\">62423</td><td style = \"text-align: right;\">209171</td><td style = \"text-align: left;\">Action|Adventure|Drama</td></tr></tbody></table></div>"
      ],
      "text/latex": [
       "\\begin{tabular}{r|cc}\n",
       "\t& movieId & genres\\\\\n",
       "\t\\hline\n",
       "\t& Int64? & String?\\\\\n",
       "\t\\hline\n",
       "\t1 & 1 & Adventure|Animation|Children|Comedy|Fantasy \\\\\n",
       "\t2 & 2 & Adventure|Children|Fantasy \\\\\n",
       "\t3 & 3 & Comedy|Romance \\\\\n",
       "\t4 & 4 & Comedy|Drama|Romance \\\\\n",
       "\t5 & 5 & Comedy \\\\\n",
       "\t6 & 6 & Action|Crime|Thriller \\\\\n",
       "\t7 & 7 & Comedy|Romance \\\\\n",
       "\t8 & 8 & Adventure|Children \\\\\n",
       "\t9 & 9 & Action \\\\\n",
       "\t10 & 10 & Action|Adventure|Thriller \\\\\n",
       "\t11 & 11 & Comedy|Drama|Romance \\\\\n",
       "\t12 & 12 & Comedy|Horror \\\\\n",
       "\t13 & 13 & Adventure|Animation|Children \\\\\n",
       "\t14 & 14 & Drama \\\\\n",
       "\t15 & 15 & Action|Adventure|Romance \\\\\n",
       "\t16 & 16 & Crime|Drama \\\\\n",
       "\t17 & 17 & Drama|Romance \\\\\n",
       "\t18 & 18 & Comedy \\\\\n",
       "\t19 & 19 & Comedy \\\\\n",
       "\t20 & 20 & Action|Comedy|Crime|Drama|Thriller \\\\\n",
       "\t21 & 21 & Comedy|Crime|Thriller \\\\\n",
       "\t22 & 22 & Crime|Drama|Horror|Mystery|Thriller \\\\\n",
       "\t23 & 23 & Action|Crime|Thriller \\\\\n",
       "\t24 & 24 & Drama|Sci-Fi \\\\\n",
       "\t25 & 25 & Drama|Romance \\\\\n",
       "\t26 & 26 & Drama \\\\\n",
       "\t27 & 27 & Children|Drama \\\\\n",
       "\t28 & 28 & Drama|Romance \\\\\n",
       "\t29 & 29 & Adventure|Drama|Fantasy|Mystery|Sci-Fi \\\\\n",
       "\t30 & 30 & Crime|Drama \\\\\n",
       "\t$\\dots$ & $\\dots$ & $\\dots$ \\\\\n",
       "\\end{tabular}\n"
      ],
      "text/plain": [
       "\u001b[1m62423×2 DataFrame\u001b[0m\n",
       "\u001b[1m   Row \u001b[0m│\u001b[1m movieId \u001b[0m\u001b[1m genres                            \u001b[0m\n",
       "       │\u001b[90m Int64?  \u001b[0m\u001b[90m String?                           \u001b[0m\n",
       "───────┼────────────────────────────────────────────\n",
       "     1 │       1  Adventure|Animation|Children|Com…\n",
       "     2 │       2  Adventure|Children|Fantasy\n",
       "     3 │       3  Comedy|Romance\n",
       "     4 │       4  Comedy|Drama|Romance\n",
       "     5 │       5  Comedy\n",
       "     6 │       6  Action|Crime|Thriller\n",
       "     7 │       7  Comedy|Romance\n",
       "     8 │       8  Adventure|Children\n",
       "     9 │       9  Action\n",
       "    10 │      10  Action|Adventure|Thriller\n",
       "    11 │      11  Comedy|Drama|Romance\n",
       "   ⋮   │    ⋮                     ⋮\n",
       " 62414 │  209145  Drama\n",
       " 62415 │  209147  Crime|Horror\n",
       " 62416 │  209151  (no genres listed)\n",
       " 62417 │  209153  Comedy|Drama\n",
       " 62418 │  209155  Action|Comedy|Romance\n",
       " 62419 │  209157  Drama\n",
       " 62420 │  209159  Documentary\n",
       " 62421 │  209163  Comedy|Drama\n",
       " 62422 │  209169  (no genres listed)\n",
       " 62423 │  209171  Action|Adventure|Drama\n",
       "\u001b[36m                                  62402 rows omitted\u001b[0m"
      ]
     },
     "execution_count": 7,
     "metadata": {},
     "output_type": "execute_result"
    }
   ],
   "source": [
    "dfm_2 = DataFrame(read_parquet(\"movies.parquet\"))\n",
    "dfm_2 = dfm_2[:, [:movieId, :genres]]"
   ]
  },
  {
   "cell_type": "code",
   "execution_count": 8,
   "id": "1b599984",
   "metadata": {},
   "outputs": [
    {
     "ename": "LoadError",
     "evalue": "UndefVarError: `dfr` not defined in `Main`\nSuggestion: check for spelling errors or missing imports.",
     "output_type": "error",
     "traceback": [
      "UndefVarError: `dfr` not defined in `Main`\nSuggestion: check for spelling errors or missing imports.",
      "",
      "Stacktrace:",
      " [1] top-level scope",
      "   @ In[8]:2"
     ]
    }
   ],
   "source": [
    "# CSV a Parquet Ratings\n",
    "Parquet.write_parquet(\"ratings.parquet\",dfr)"
   ]
  },
  {
   "cell_type": "code",
   "execution_count": 9,
   "id": "592cfe5e",
   "metadata": {},
   "outputs": [
    {
     "data": {
      "text/plain": [
       "FindRatingsWorker (generic function with 1 method)"
      ]
     },
     "execution_count": 9,
     "metadata": {},
     "output_type": "execute_result"
    }
   ],
   "source": [
    "function FindRatingsWorker(index, ng, kg, dfm_2, dfr_v)\n",
    "    # Inicializar el contador para este archivo de ratings\n",
    "    genre_count = zeros(Int, ng)\n",
    "    \n",
    "    # Unir el DataFrame de ratings con el DataFrame de películas\n",
    "    data = leftjoin(dfr_v, dfm_2, on = :movie_id)\n",
    "    \n",
    "    # Contar los géneros en este archivo\n",
    "    for row in eachrow(data)\n",
    "        if !ismissing(row.genres)\n",
    "            genre_index = findfirst(x -> x == row.genres, kg)\n",
    "            if genre_index !== nothing\n",
    "                genre_count[genre_index] += 1\n",
    "            end\n",
    "        end\n",
    "    end\n",
    "    \n",
    "    return genre_count\n",
    "end"
   ]
  },
  {
   "cell_type": "code",
   "execution_count": null,
   "id": "adc0b4b2",
   "metadata": {},
   "outputs": [],
   "source": [
    "dfr_v = DataFrame(read_parquet(\"ratings.parquet\"))"
   ]
  },
  {
   "cell_type": "code",
   "execution_count": null,
   "id": "447be603",
   "metadata": {},
   "outputs": [],
   "source": []
  },
  {
   "cell_type": "code",
   "execution_count": 21,
   "id": "7e618551",
   "metadata": {},
   "outputs": [
    {
     "ename": "LoadError",
     "evalue": "TaskFailedException\n\n\u001b[91m    nested task error: \u001b[39mInvalid path to parquet file or dataset - dfr01.parquet\n    Stacktrace:\n     [1] \u001b[0m\u001b[1merror\u001b[22m\u001b[0m\u001b[1m(\u001b[22m\u001b[90ms\u001b[39m::\u001b[0mString\u001b[0m\u001b[1m)\u001b[22m\n    \u001b[90m   @\u001b[39m \u001b[90mBase\u001b[39m \u001b[90m./\u001b[39m\u001b[90m\u001b[4merror.jl:35\u001b[24m\u001b[39m\n     [2] \u001b[0m\u001b[1mread_parquet\u001b[22m\u001b[0m\u001b[1m(\u001b[22m\u001b[90mpath\u001b[39m::\u001b[0mString; \u001b[90mkwargs\u001b[39m::\u001b[0m@Kwargs\u001b[90m{}\u001b[39m\u001b[0m\u001b[1m)\u001b[22m\n    \u001b[90m   @\u001b[39m \u001b[35mParquet\u001b[39m \u001b[90m~/.julia/packages/Parquet/ASpqL/src/\u001b[39m\u001b[90m\u001b[4msimple_reader.jl:27\u001b[24m\u001b[39m\n     [3] \u001b[0m\u001b[1mread_parquet\u001b[22m\n    \u001b[90m   @\u001b[39m \u001b[90m~/.julia/packages/Parquet/ASpqL/src/\u001b[39m\u001b[90m\u001b[4msimple_reader.jl:21\u001b[24m\u001b[39m\u001b[90m [inlined]\u001b[39m\n     [4] \u001b[0m\u001b[1mmacro expansion\u001b[22m\n    \u001b[90m   @\u001b[39m \u001b[90m./\u001b[39m\u001b[90m\u001b[4mIn[21]:6\u001b[24m\u001b[39m\u001b[90m [inlined]\u001b[39m\n     [5] \u001b[0m\u001b[1m(::var\"#141#threadsfor_fun#25\"{var\"#141#threadsfor_fun#24#26\"{UnitRange{Int64}}})\u001b[22m\u001b[0m\u001b[1m(\u001b[22m\u001b[90mtid\u001b[39m::\u001b[0mInt64; \u001b[90monethread\u001b[39m::\u001b[0mBool\u001b[0m\u001b[1m)\u001b[22m\n    \u001b[90m   @\u001b[39m \u001b[36mMain\u001b[39m \u001b[90m./\u001b[39m\u001b[90m\u001b[4mthreadingconstructs.jl:252\u001b[24m\u001b[39m\n     [6] \u001b[0m\u001b[1m#141#threadsfor_fun\u001b[22m\n    \u001b[90m   @\u001b[39m \u001b[90m./\u001b[39m\u001b[90m\u001b[4mthreadingconstructs.jl:219\u001b[24m\u001b[39m\u001b[90m [inlined]\u001b[39m\n     [7] \u001b[0m\u001b[1m(::Base.Threads.var\"#1#2\"{var\"#141#threadsfor_fun#25\"{var\"#141#threadsfor_fun#24#26\"{UnitRange{Int64}}}, Int64})\u001b[22m\u001b[0m\u001b[1m(\u001b[22m\u001b[0m\u001b[1m)\u001b[22m\n    \u001b[90m   @\u001b[39m \u001b[90mBase.Threads\u001b[39m \u001b[90m./\u001b[39m\u001b[90m\u001b[4mthreadingconstructs.jl:154\u001b[24m\u001b[39m\n\n...and 3 more exceptions.\n",
     "output_type": "error",
     "traceback": [
      "TaskFailedException\n\n\u001b[91m    nested task error: \u001b[39mInvalid path to parquet file or dataset - dfr01.parquet\n    Stacktrace:\n     [1] \u001b[0m\u001b[1merror\u001b[22m\u001b[0m\u001b[1m(\u001b[22m\u001b[90ms\u001b[39m::\u001b[0mString\u001b[0m\u001b[1m)\u001b[22m\n    \u001b[90m   @\u001b[39m \u001b[90mBase\u001b[39m \u001b[90m./\u001b[39m\u001b[90m\u001b[4merror.jl:35\u001b[24m\u001b[39m\n     [2] \u001b[0m\u001b[1mread_parquet\u001b[22m\u001b[0m\u001b[1m(\u001b[22m\u001b[90mpath\u001b[39m::\u001b[0mString; \u001b[90mkwargs\u001b[39m::\u001b[0m@Kwargs\u001b[90m{}\u001b[39m\u001b[0m\u001b[1m)\u001b[22m\n    \u001b[90m   @\u001b[39m \u001b[35mParquet\u001b[39m \u001b[90m~/.julia/packages/Parquet/ASpqL/src/\u001b[39m\u001b[90m\u001b[4msimple_reader.jl:27\u001b[24m\u001b[39m\n     [3] \u001b[0m\u001b[1mread_parquet\u001b[22m\n    \u001b[90m   @\u001b[39m \u001b[90m~/.julia/packages/Parquet/ASpqL/src/\u001b[39m\u001b[90m\u001b[4msimple_reader.jl:21\u001b[24m\u001b[39m\u001b[90m [inlined]\u001b[39m\n     [4] \u001b[0m\u001b[1mmacro expansion\u001b[22m\n    \u001b[90m   @\u001b[39m \u001b[90m./\u001b[39m\u001b[90m\u001b[4mIn[21]:6\u001b[24m\u001b[39m\u001b[90m [inlined]\u001b[39m\n     [5] \u001b[0m\u001b[1m(::var\"#141#threadsfor_fun#25\"{var\"#141#threadsfor_fun#24#26\"{UnitRange{Int64}}})\u001b[22m\u001b[0m\u001b[1m(\u001b[22m\u001b[90mtid\u001b[39m::\u001b[0mInt64; \u001b[90monethread\u001b[39m::\u001b[0mBool\u001b[0m\u001b[1m)\u001b[22m\n    \u001b[90m   @\u001b[39m \u001b[36mMain\u001b[39m \u001b[90m./\u001b[39m\u001b[90m\u001b[4mthreadingconstructs.jl:252\u001b[24m\u001b[39m\n     [6] \u001b[0m\u001b[1m#141#threadsfor_fun\u001b[22m\n    \u001b[90m   @\u001b[39m \u001b[90m./\u001b[39m\u001b[90m\u001b[4mthreadingconstructs.jl:219\u001b[24m\u001b[39m\u001b[90m [inlined]\u001b[39m\n     [7] \u001b[0m\u001b[1m(::Base.Threads.var\"#1#2\"{var\"#141#threadsfor_fun#25\"{var\"#141#threadsfor_fun#24#26\"{UnitRange{Int64}}}, Int64})\u001b[22m\u001b[0m\u001b[1m(\u001b[22m\u001b[0m\u001b[1m)\u001b[22m\n    \u001b[90m   @\u001b[39m \u001b[90mBase.Threads\u001b[39m \u001b[90m./\u001b[39m\u001b[90m\u001b[4mthreadingconstructs.jl:154\u001b[24m\u001b[39m\n\n...and 3 more exceptions.\n",
      "",
      "Stacktrace:",
      " [1] threading_run(fun::var\"#141#threadsfor_fun#25\"{var\"#141#threadsfor_fun#24#26\"{UnitRange{Int64}}}, static::Bool)",
      "   @ Base.Threads ./threadingconstructs.jl:172",
      " [2] macro expansion",
      "   @ ./threadingconstructs.jl:189 [inlined]",
      " [3] top-level scope",
      "   @ ./In[21]:1"
     ]
    }
   ],
   "source": [
    "Threads.@threads for i in 1:nF\n",
    "    # Generar el nombre del archivo de ratings\n",
    "    rfn = \"dfr\" * lpad(i, 2, '0') * \".parquet\"  # Ajusta el nombre según tus archivos\n",
    "    \n",
    "    # Cargar el archivo de ratings\n",
    "    dfr_v = DataFrame(read_parquet(rfn))\n",
    "    \n",
    "    # Llamar a la función que procesa los ratings y actualiza el conteo por género\n",
    "    ra[:, i] = FindRatingsWorker(i, ng, kg, dfm_2, dfr_v)\n",
    "end"
   ]
  },
  {
   "cell_type": "code",
   "execution_count": 13,
   "id": "a681ca2e",
   "metadata": {},
   "outputs": [
    {
     "data": {
      "text/plain": [
       "4"
      ]
     },
     "execution_count": 13,
     "metadata": {},
     "output_type": "execute_result"
    }
   ],
   "source": [
    "Threads.nthreads()"
   ]
  },
  {
   "cell_type": "code",
   "execution_count": null,
   "id": "a6d122c3",
   "metadata": {},
   "outputs": [],
   "source": []
  }
 ],
 "metadata": {
  "kernelspec": {
   "display_name": "Julia 1.11.1",
   "language": "julia",
   "name": "julia-1.11"
  },
  "language_info": {
   "file_extension": ".jl",
   "mimetype": "application/julia",
   "name": "julia",
   "version": "1.11.1"
  }
 },
 "nbformat": 4,
 "nbformat_minor": 5
}
