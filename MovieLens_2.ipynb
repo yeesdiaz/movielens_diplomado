{
 "cells": [
  {
   "cell_type": "code",
   "execution_count": 3,
   "id": "28c7c741",
   "metadata": {},
   "outputs": [],
   "source": [
    "using CSV\n",
    "using DataFrames\n",
    "using BenchmarkTools\n",
    "using Tables\n",
    "using Statistics\n",
    "using Query\n",
    "using CUDA\n",
    "using Dates\n",
    "using Printf\n",
    "using Parquet"
   ]
  },
  {
   "cell_type": "code",
   "execution_count": null,
   "id": "3f1a7164",
   "metadata": {},
   "outputs": [],
   "source": [
    "function dividir_archivo_csv_linea_por_linea(archivo, filas_por_fragmento)\n",
    "    # Inicializar variables para el procesamiento\n",
    "    i = 1\n",
    "    contador_filas = 0\n",
    "    df_fragmento = DataFrame()\n",
    "    \n",
    "    # Abrir el archivo CSV y leer línea por línea\n",
    "    for row in CSV.File(archivo)\n",
    "        push!(df_fragmento, row)\n",
    "        contador_filas += 1\n",
    "        \n",
    "        # Guardar el fragmento cuando se alcanza el número de filas por fragmento\n",
    "        if contador_filas >= filas_por_fragmento\n",
    "            nombre_parquet = \"ratings_\" * lpad(i, 2, '0') * \".parquet\"\n",
    "            Parquet.write_parquet(nombre_parquet, df_fragmento)\n",
    "            println(\"Fragmento guardado: $nombre_parquet\")\n",
    "\n",
    "            # Reiniciar el DataFrame y el contador de filas\n",
    "            df_fragmento = DataFrame()\n",
    "            contador_filas = 0\n",
    "            i += 1\n",
    "        end\n",
    "    end\n",
    "    \n",
    "    # Guardar cualquier fila restante en un último fragmento\n",
    "    if nrow(df_fragmento) > 0\n",
    "        nombre_parquet = \"ratings_\" * lpad(i, 2, '0') * \".parquet\"\n",
    "        Parquet.write_parquet(nombre_parquet, df_fragmento)\n",
    "        println(\"Último fragmento guardado: $nombre_parquet\")\n",
    "    end\n",
    "end\n",
    "\n",
    "# Llamar a la función con el nombre del archivo y el tamaño del fragmento\n",
    "dividir_archivo_csv_linea_por_linea(\"ratings.csv\", 50000)\n"
   ]
  },
  {
   "cell_type": "code",
   "execution_count": null,
   "id": "bfa29d2f",
   "metadata": {},
   "outputs": [],
   "source": [
    "# Cargar el archivo de películas en formato Parquet\n",
    "movies = Parquet.write_parquet(\"movies.parquet\",dfm)"
   ]
  },
  {
   "cell_type": "code",
   "execution_count": null,
   "id": "af44d86c",
   "metadata": {},
   "outputs": [],
   "source": []
  }
 ],
 "metadata": {
  "kernelspec": {
   "display_name": "Julia 1.11.1",
   "language": "julia",
   "name": "julia-1.11"
  },
  "language_info": {
   "file_extension": ".jl",
   "mimetype": "application/julia",
   "name": "julia",
   "version": "1.11.1"
  }
 },
 "nbformat": 4,
 "nbformat_minor": 5
}
